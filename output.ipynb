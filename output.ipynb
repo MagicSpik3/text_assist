# ---
# This script is designed to be run in a Jupyter Notebook cell by cell.
# ---

# %%
# Cell 1: Imports and Setup
# -----------------------------------------------------------------------------
import pandas as pd
import plotly.graph_objects as go
from plotly.subplots import make_subplots
from IPython.display import display, Markdown

# %%
# Cell 2: Data Placeholders - EDIT YOUR NUMBERS HERE
# -----------------------------------------------------------------------------
# Fill in your actual results in this section.

# Headline KPIs
baseline_accuracy = 68.2
shortlist_accuracy = 89.5

# Specificity Chart (Scenario 1 on Representative Sample)
five_digit_accuracy = 68.2
two_digit_accuracy = 92.4

# Unambiguous Data Comparison Chart
unambiguous_data = {
    'All Data': [68.2, 75.1, 89.5],
    'Unambiguous Only': [79.8, 85.3, 94.1]
}
unambiguous_labels = [
    'Scenario 1: Top vs Top', 
    'Scenario 2: Any vs Any', 
    'Scenario 3: Any vs Top'
]

# Threshold Chart Data
threshold_levels = [0.0, 0.1, 0.2, 0.3, 0.4, 0.5, 0.6, 0.7, 0.8, 0.9, 1.0]
accuracy_at_threshold = [89.5, 90.1, 91.3, 92.0, 93.5, 94.2, 95.8, 97.1, 98.5, 99.1, 100.0]
coverage_at_threshold = [100.0, 99.8, 99.5, 98.7, 95.2, 90.1, 82.4, 71.3, 55.6, 34.2, 10.1]

# Define a consistent color palette
# Corresponds to the "Brilliant Blues" palette
palette = {
    'primary_dark': '#00449E',
    'primary_mid': '#007ACC',
    'primary_light': '#4DB1E2',
    'accent_light': '#9ED8F2',
    'background': '#F3F4F6',
    'text_dark': '#1F2937',
    'text_light': '#6B7280'
}


# %%
# Cell 3: Header Section
# -----------------------------------------------------------------------------
display(Markdown(f"""
<div style="background-color: white; padding: 2rem; border-radius: 1rem; box-shadow: 0 4px 6px rgba(0,0,0,0.1);">
    <h1 style="color: {palette['primary_dark']}; font-size: 2.25rem; font-weight: 800; letter-spacing: -0.025em;">
        Survey Assist (SA) Performance Analysis
    </h1>
    <p style="margin-top: 0.5rem; font-size: 1.25rem; color: {palette['text_light']};">
        An Evaluation of Model Accuracy Against Human Coded Benchmarks
    </p>
</div>
"""))

# %%
# Cell 4: Overall Assessment
# -----------------------------------------------------------------------------
display(Markdown(f"""
<div style="background-color: white; padding: 2rem; border-radius: 1rem; box-shadow: 0 4px 6px rgba(0,0,0,0.1); text-align: center; margin-top: 2rem;">
    <h2 style="color: {palette['text_light']}; font-size: 1.25rem; font-weight: 600; text-transform: uppercase; letter-spacing: 0.05em;">
        Overall Assessment
    </h2>
    <p style="margin-top: 1rem; font-size: 1.5rem; max-width: 48rem; margin-left: auto; margin-right: auto; color: {palette['text_dark']}; line-height: 1.6;">
        SA demonstrates strong baseline performance, with its candidate shortlist providing 
        <span style="font-weight: 700; color: {palette['primary_mid']};">significant value</span> 
        over its top-one prediction. The model is a capable tool for accelerating the coding workflow.
    </p>
</div>
"""))


# %%
# Cell 5: Performance Lift Chart
# -----------------------------------------------------------------------------
display(Markdown("## The Value of the Shortlist"))
display(Markdown("Comparing the model's single best guess (Baseline) to the accuracy when considering all 5 of its suggestions shows a significant performance lift."))

fig_lift = go.Figure(go.Bar(
    y=['Baseline (Top-1 vs Top-1)', 'Shortlist (Any of 5 vs Top-1)'],
    x=[baseline_accuracy, shortlist_accuracy],
    orientation='h',
    marker=dict(
        color=[palette['primary_light'], palette['primary_mid']],
        line=dict(color=palette['primary_dark'], width=1.5)
    ),
    text=[f"{baseline_accuracy}%", f"{shortlist_accuracy}%"],
    textposition='auto'
))

fig_lift.update_layout(
    title_text='Accuracy Lift from SA Shortlist',
    xaxis_title="Accuracy (%)",
    yaxis_title="",
    plot_bgcolor='white',
    paper_bgcolor='white',
    font_color=palette['text_dark'],
    xaxis=dict(range=[0, 100]),
    height=400
)
fig_lift.show()


# %%
# Cell 6: Detailed Breakdown Charts
# -----------------------------------------------------------------------------
display(Markdown("## Detailed Breakdown"))

fig_details = make_subplots(
    rows=1, cols=2, 
    specs=[[{'type':'domain'}, {'type':'xy'}]],
    subplot_titles=('Broad vs. Specific Accuracy', 'Performance on "Unambiguous" Data')
)

# Doughnut Chart for Specificity
fig_details.add_trace(go.Pie(
    labels=['5-Digit Match (Specific)', '2-Digit Match (Broad)'],
    values=[five_digit_accuracy, two_digit_accuracy],
    hole=.6,
    marker_colors=[palette['primary_mid'], palette['accent_light']],
    name="Specificity"
), 1, 1)

# Grouped Bar Chart for Unambiguous Data
fig_details.add_trace(go.Bar(
    name='All Data',
    x=unambiguous_labels,
    y=unambiguous_data['All Data'],
    marker_color=palette['primary_light']
), 1, 2)

fig_details.add_trace(go.Bar(
    name='Unambiguous Only',
    x=unambiguous_labels,
    y=unambiguous_data['Unambiguous Only'],
    marker_color=palette['primary_dark']
), 1, 2)

fig_details.update_layout(
    barmode='group',
    plot_bgcolor='white',
    paper_bgcolor='white',
    font_color=palette['text_dark'],
    legend_title_text='Dataset',
    height=450,
    yaxis2=dict(range=[0, 100], title="Accuracy (%)"),
    showlegend=True
)

fig_details.show()


# %%
# Cell 7: Threshold Analysis Chart
# -----------------------------------------------------------------------------
display(Markdown("## Confidence vs. Performance"))
display(Markdown("This chart shows the trade-off between Accuracy and Coverage. As we increase the required confidence threshold, accuracy rises, but the percentage of cases we can automate (Coverage) decreases."))

fig_thresh = go.Figure()

fig_thresh.add_trace(go.Scatter(
    x=threshold_levels, 
    y=accuracy_at_threshold,
    mode='lines+markers',
    name='Accuracy',
    line=dict(color=palette['primary_mid'], width=3),
    fill='tozeroy',
))

fig_thresh.add_trace(go.Scatter(
    x=threshold_levels, 
    y=coverage_at_threshold,
    mode='lines+markers',
    name='Coverage',
    line=dict(color=palette['primary_dark'], width=3),
    fill='tozeroy',
))

fig_thresh.update_layout(
    title_text='Accuracy and Coverage vs. Confidence Threshold',
    xaxis_title='Confidence Threshold',
    yaxis_title='Percentage (%)',
    plot_bgcolor='white',
    paper_bgcolor='white',
    font_color=palette['text_dark'],
    height=500,
    yaxis=dict(range=[0, 100.5]),
    legend=dict(yanchor="bottom", y=0.01, xanchor="right", x=0.99)
)

fig_thresh.show()

# %%
# Cell 8: Recommendations
# -----------------------------------------------------------------------------
display(Markdown("## Conclusion & Next Steps"))
display(Markdown("""
<div style="display: grid; grid-template-columns: repeat(auto-fit, minmax(250px, 1fr)); gap: 1.5rem;">
    <div style="background: white; padding: 1.5rem; border-radius: 0.75rem; box-shadow: 0 2px 4px rgba(0,0,0,0.05); border-top: 4px solid #007ACC;">
        <p style="font-size: 2.5rem; margin-bottom: 0.75rem;">✅</p>
        <h3 style="font-weight: 700; font-size: 1.125rem; margin-bottom: 0.5rem;">Overall Recommendation</h3>
        <p style="color: #6B7280;">Proceed with integrating SA into the standard workflow, especially for "unambiguous" cases where its reliability is highest.</p>
    </div>
    <div style="background: white; padding: 1.5rem; border-radius: 0.75rem; box-shadow: 0 2px 4px rgba(0,0,0,0.05); border-top: 4px solid #007ACC;">
        <p style="font-size: 2.5rem; margin-bottom: 0.75rem;">🛠️</p>
        <h3 style="font-weight: 700; font-size: 1.125rem; margin-bottom: 0.5rem;">Targeted Improvement</h3>
        <p style="color: #6B7280;">Focus prompt engineering efforts on the industry sections identified as underperforming to improve overall model consistency.</p>
    </div>
    <div style="background: white; padding: 1.5rem; border-radius: 0.75rem; box-shadow: 0 2px 4px rgba(0,0,0,0.05); border-top: 4px solid #007ACC;">
        <p style="font-size: 2.5rem; margin-bottom: 0.75rem;">💡</p>
        <h3 style="font-weight: 700; font-size: 1.125rem; margin-bottom: 0.5rem;">Strategic Use</h3>
        <p style="color: #6B7280;">Emphasize the value of the full candidate shortlist in user training and workflow design to maximize effectiveness.</p>
    </div>
</div>
"""))

